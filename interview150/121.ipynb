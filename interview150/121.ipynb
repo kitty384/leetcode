{
 "cells": [
  {
   "cell_type": "code",
   "execution_count": null,
   "metadata": {},
   "outputs": [],
   "source": [
    "from typing import List\n",
    "class Solution:\n",
    "    def maxProfit(self, prices: List[int]) -> int:\n",
    "        i=0\n",
    "        profit=0\n",
    "        lenght=len(prices)\n",
    "        for i in range(lenght):\n",
    "            for j in range(i+1,lenght):\n",
    "                if (prices[j]-prices[i])>profit:\n",
    "                    profit=prices[j]-prices[i]\n",
    "                j+=1\n",
    "            i+=1\n",
    "        return profit\n"
   ]
  }
 ],
 "metadata": {
  "language_info": {
   "name": "python"
  }
 },
 "nbformat": 4,
 "nbformat_minor": 2
}
