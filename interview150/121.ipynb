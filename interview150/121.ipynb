{
 "cells": [
  {
   "cell_type": "code",
   "execution_count": null,
   "metadata": {},
   "outputs": [],
   "source": [
    "from typing import List\n",
    "class Solution:\n",
    "    def maxProfit(self, prices: List[int]) -> int:\n",
    "        i=0\n",
    "        profit=0\n",
    "        lenght=len(prices)\n",
    "        for i in range(lenght):\n",
    "            for j in range(i+1,lenght):\n",
    "                if (prices[j]-prices[i])>profit:\n",
    "                    profit=prices[j]-prices[i]\n",
    "                j+=1\n",
    "            i+=1\n",
    "        return profit\n"
   ]
  },
  {
   "cell_type": "code",
   "execution_count": null,
   "metadata": {},
   "outputs": [],
   "source": [
    "from typing import List\n",
    "class Solution:\n",
    "    def maxProfit(self, prices: List[int]) -> int:\n",
    "        minprice=prices[0]\n",
    "        profit=0\n",
    "        length=len(prices)\n",
    "        for i in range(0,length):\n",
    "            # if prices[i]-minprice>profit:\n",
    "            #     profit=prices[i]-minprice\n",
    "            profit=max(profit,prices[i]-minprice)\n",
    "            # if prices[i]<minprice:\n",
    "            #     minprice=prices[i]\n",
    "            minprice=min(minprice,prices[i])\n",
    "            i+=1\n",
    "        return profit"
   ]
  },
  {
   "cell_type": "code",
   "execution_count": 4,
   "metadata": {},
   "outputs": [
    {
     "name": "stdout",
     "output_type": "stream",
     "text": [
      "[range(4, 2)]\n"
     ]
    }
   ],
   "source": [
    "nums=[range(4,2)]\n",
    "print(nums)"
   ]
  }
 ],
 "metadata": {
  "kernelspec": {
   "display_name": "Python 3",
   "language": "python",
   "name": "python3"
  },
  "language_info": {
   "codemirror_mode": {
    "name": "ipython",
    "version": 3
   },
   "file_extension": ".py",
   "mimetype": "text/x-python",
   "name": "python",
   "nbconvert_exporter": "python",
   "pygments_lexer": "ipython3",
   "version": "3.10.10"
  }
 },
 "nbformat": 4,
 "nbformat_minor": 2
}
