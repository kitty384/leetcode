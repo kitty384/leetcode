{
 "cells": [
  {
   "cell_type": "code",
   "execution_count": 3,
   "metadata": {},
   "outputs": [
    {
     "name": "stdout",
     "output_type": "stream",
     "text": [
      "5\n"
     ]
    }
   ],
   "source": [
    "from typing import List\n",
    "\n",
    "class Solution:\n",
    "    def removeDuplicates(self, nums: List[int]) -> int:\n",
    "        i=0\n",
    "        for num in nums:\n",
    "            if i < 2 or num > nums[i-2]:\n",
    "                nums[i] = num\n",
    "                i += 1\n",
    "        return i\n",
    "s=Solution()\n",
    "print(s.removeDuplicates([1,1,1,2,2,2,2,3]))\n"
   ]
  },
  {
   "cell_type": "code",
   "execution_count": 4,
   "metadata": {},
   "outputs": [
    {
     "name": "stdout",
     "output_type": "stream",
     "text": [
      "2\n"
     ]
    }
   ],
   "source": [
    "from typing import List\n",
    "\n",
    "class Solution:\n",
    "    def removeDuplicates(self, nums: List[int]) -> int:\n",
    "        slow=2\n",
    "        fast=2\n",
    "        while fast<len(nums):\n",
    "            if nums[fast]!=nums[slow-2]:\n",
    "                # \n",
    "                nums[slow]=nums[fast]\n",
    "                slow+=1\n",
    "                fast+=1\n",
    "            else:\n",
    "                fast+=1\n",
    "        return slow\n",
    "s=Solution()\n",
    "print(s.removeDuplicates([1,1,1,2,2,2,3]))             "
   ]
  },
  {
   "cell_type": "code",
   "execution_count": null,
   "metadata": {},
   "outputs": [],
   "source": [
    "# 内置函数\n",
    "from collections import Counter\n",
    "class Solution:\n",
    "    def removeDuplicates(self, nums: List[int]) -> int:\n",
    "        count=Counter(nums)\n",
    "        result=[]\n",
    "        # result=[item for item,freq in count.items() if freq<=2]\n",
    "        for num,freq in count.items():\n",
    "             result.extend([num]*min(freq,2))# extend大批量添加元素时可以使用\n",
    "        nums[:]=sorted(result)\n",
    "        return len(result)"
   ]
  }
 ],
 "metadata": {
  "kernelspec": {
   "display_name": "Python 3",
   "language": "python",
   "name": "python3"
  },
  "language_info": {
   "codemirror_mode": {
    "name": "ipython",
    "version": 3
   },
   "file_extension": ".py",
   "mimetype": "text/x-python",
   "name": "python",
   "nbconvert_exporter": "python",
   "pygments_lexer": "ipython3",
   "version": "3.10.10"
  }
 },
 "nbformat": 4,
 "nbformat_minor": 2
}
