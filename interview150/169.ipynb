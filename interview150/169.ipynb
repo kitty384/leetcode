{
 "cells": [
  {
   "cell_type": "code",
   "execution_count": null,
   "metadata": {},
   "outputs": [],
   "source": [
    "#内置方法\n",
    "from typing import List\n",
    "from collections import Counter\n",
    "import math\n",
    "\n",
    "class Solution:\n",
    "    def majorityElement(self, nums: List[int]) -> int:\n",
    "        count=Counter(nums)\n",
    "        length=len(nums)\n",
    "        result=[num for num,freq in count.items() if freq > math.floor(length/2)]\n",
    "        return result[0]\n",
    "        #官方解法只有一行\n",
    "        #return max(counts.keys(), key=counts.get)\n",
    "        "
   ]
  },
  {
   "cell_type": "code",
   "execution_count": 2,
   "metadata": {},
   "outputs": [
    {
     "name": "stdout",
     "output_type": "stream",
     "text": [
      "Charlie\n"
     ]
    }
   ],
   "source": [
    "scores = {'Alice': 90, 'Bob': 85, 'Charlie': 95}  \n",
    "  \n",
    "# 使用max函数和key参数找到分数最高的学生  \n",
    "highest_scoring_student = max(scores.keys(), key=scores.get)  \n",
    "print(highest_scoring_student)  # 输出: Charlie"
   ]
  },
  {
   "cell_type": "code",
   "execution_count": 3,
   "metadata": {},
   "outputs": [],
   "source": [
    "from typing import List\n",
    "class Solution:\n",
    "    def majorityElement(self, nums: List[int]) -> int:\n",
    "        sorted(nums)\n",
    "        return nums[len(nums)//2]"
   ]
  },
  {
   "cell_type": "code",
   "execution_count": null,
   "metadata": {},
   "outputs": [],
   "source": [
    "import random\n",
    "class Solution:\n",
    "    def majorityElement(self, nums: List[int]) -> int:\n",
    "        thread=len(nums)//2\n",
    "        while True:\n",
    "            candidate=random.choice(nums)\n",
    "            if sum(1 for num in nums if num==candidate) >thread:\n",
    "                return candidate"
   ]
  },
  {
   "cell_type": "code",
   "execution_count": null,
   "metadata": {},
   "outputs": [],
   "source": [
    "class Solution:\n",
    "    def majorityElement(self, nums: List[int]) -> int:\n",
    "        def majority_rec(low,high)->int:\n",
    "            # 极端条件\n",
    "            if low==high:\n",
    "                return nums[low]\n",
    "\n",
    "            #将问题分成子问题\n",
    "            #得到子序列中出现次数最多的数\n",
    "            mid=(high-low)//2+low #注意这里是整除\n",
    "            left=majority_rec(low,mid)\n",
    "            right=majority_rec(mid+1,high)\n",
    "\n",
    "            #比较这两个数哪个出现的次数最多\n",
    "            #这里写错了，不应该在整个序列中统计candidate，应该在上一级子序列中统计\n",
    "            # lcount=sum(1 for num in nums if num==left)\n",
    "            # rcount=sum(1 for num in nums if num==right)\n",
    "            lcount=sum(1 for num in nums[low:high+1] if num==left)\n",
    "            rcount=sum(1 for num in nums[low:high+1] if num==right)\n",
    "            return left if lcount>rcount else right\n",
    "        return majority_rec(0,len(nums)-1)\n",
    "\n"
   ]
  },
  {
   "cell_type": "code",
   "execution_count": null,
   "metadata": {},
   "outputs": [],
   "source": [
    "# 投票算法\n",
    "class Solution:\n",
    "    def majorityElement(self, nums: List[int]) -> int:\n",
    "        count=0\n",
    "        candidate=nums[0]\n",
    "        for num in nums:\n",
    "            if num==candidate:\n",
    "                count+=1\n",
    "            else:\n",
    "                candidate=num\n",
    "                count-=1\n",
    "        return candidate\n"
   ]
  }
 ],
 "metadata": {
  "kernelspec": {
   "display_name": "Python 3",
   "language": "python",
   "name": "python3"
  },
  "language_info": {
   "codemirror_mode": {
    "name": "ipython",
    "version": 3
   },
   "file_extension": ".py",
   "mimetype": "text/x-python",
   "name": "python",
   "nbconvert_exporter": "python",
   "pygments_lexer": "ipython3",
   "version": "3.10.10"
  }
 },
 "nbformat": 4,
 "nbformat_minor": 2
}
