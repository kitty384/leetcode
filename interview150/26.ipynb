{
 "cells": [
  {
   "cell_type": "code",
   "execution_count": 7,
   "metadata": {},
   "outputs": [
    {
     "name": "stdout",
     "output_type": "stream",
     "text": [
      "2\n"
     ]
    }
   ],
   "source": [
    "from typing import List\n",
    "\n",
    "class Solution:\n",
    "    def removeDuplicates(self, nums: List[int]) -> int:\n",
    "        i=0\n",
    "        j=0\n",
    "        length=len(nums)\n",
    "        while i<length:\n",
    "            if nums[i]==nums[j]:\n",
    "                i+=1\n",
    "            else:\n",
    "                j+=1\n",
    "                nums[j],nums[i]=nums[i],nums[j]\n",
    "                i+=1\n",
    "        return j+1\n",
    "s=Solution()\n",
    "print(s.removeDuplicates([1,1,2]))"
   ]
  },
  {
   "cell_type": "code",
   "execution_count": null,
   "metadata": {},
   "outputs": [],
   "source": [
    "from typing import List\n",
    "\n",
    "class Solution:\n",
    "    def removeDuplicates(self, nums: List[int]) -> int:\n",
    "        i=0\n",
    "        j=0\n",
    "        length=len(nums)\n",
    "        while i<length:\n",
    "            if nums[i]!=nums[j]:\n",
    "                j+=1\n",
    "                nums[j],nums[i]=nums[i],nums[j]\n",
    "            i+=1\n",
    "        return j+1"
   ]
  },
  {
   "cell_type": "code",
   "execution_count": null,
   "metadata": {},
   "outputs": [],
   "source": [
    "# 双指针法调整的时候，在不相等的时候进行元素的移动，在相等时只移动fast指针\n",
    "class Solution:\n",
    "    def removeDuplicates(self, nums: List[int]) -> int:\n",
    "        fast=1\n",
    "        slow=1\n",
    "        while fast<len(nums):\n",
    "            if  nums[fast]==nums[slow-1]:\n",
    "                fast+=1\n",
    "            else:\n",
    "                nums[slow]=nums[fast]\n",
    "                slow+=1\n",
    "                fast+=1\n",
    "        return slow"
   ]
  },
  {
   "cell_type": "code",
   "execution_count": null,
   "metadata": {},
   "outputs": [],
   "source": [
    "# 内置函数\n",
    "\n",
    "class Solution:\n",
    "    def removeDuplicates(self, nums: List[int]) -> int:\n",
    "        num=sorted(set(nums))\n",
    "        nums[:]=num\n",
    "        return len(num)"
   ]
  }
 ],
 "metadata": {
  "kernelspec": {
   "display_name": "Python 3",
   "language": "python",
   "name": "python3"
  },
  "language_info": {
   "codemirror_mode": {
    "name": "ipython",
    "version": 3
   },
   "file_extension": ".py",
   "mimetype": "text/x-python",
   "name": "python",
   "nbconvert_exporter": "python",
   "pygments_lexer": "ipython3",
   "version": "3.10.10"
  }
 },
 "nbformat": 4,
 "nbformat_minor": 2
}
