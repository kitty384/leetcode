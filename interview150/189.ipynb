{
 "cells": [
  {
   "cell_type": "code",
   "execution_count": null,
   "metadata": {},
   "outputs": [],
   "source": [
    "from typing import List\n",
    "\n",
    "class Solution:\n",
    "    def rotate(self, nums: List[int], k: int) -> None:\n",
    "        length=len(nums)\n",
    "        i=0\n",
    "        result=[None]*length\n",
    "        for i in range(0,length):\n",
    "            result[(i+k)%length]=nums[i]\n",
    "        nums[:]=result[:]\n"
   ]
  },
  {
   "cell_type": "code",
   "execution_count": null,
   "metadata": {},
   "outputs": [],
   "source": [
    "class Solution:\n",
    "    def rotate(self, nums: List[int], k: int) -> None:\n",
    "        k=k%len(nums)\n",
    "        if k==0:\n",
    "            return\n",
    "        nums[:]=nums[-k:]+nums[0:-k]"
   ]
  }
 ],
 "metadata": {
  "language_info": {
   "name": "python"
  }
 },
 "nbformat": 4,
 "nbformat_minor": 2
}
