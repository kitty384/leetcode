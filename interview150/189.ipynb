{
 "cells": [
  {
   "cell_type": "code",
   "execution_count": null,
   "metadata": {},
   "outputs": [],
   "source": [
    "from typing import List\n",
    "\n",
    "class Solution:\n",
    "    def rotate(self, nums: List[int], k: int) -> None:\n",
    "        length=len(nums)\n",
    "        i=0\n",
    "        result=[None]*length\n",
    "        for i in range(0,length):\n",
    "            result[(i+k)%length]=nums[i]\n",
    "        nums[:]=result[:]\n"
   ]
  },
  {
   "cell_type": "code",
   "execution_count": null,
   "metadata": {},
   "outputs": [],
   "source": [
    "class Solution:\n",
    "    def rotate(self, nums: List[int], k: int) -> None:\n",
    "        k=k%len(nums)\n",
    "        if k==0:\n",
    "            return\n",
    "        nums[:]=nums[-k:]+nums[0:-k]"
   ]
  },
  {
   "cell_type": "code",
   "execution_count": null,
   "metadata": {},
   "outputs": [],
   "source": [
    "class Solution:\n",
    "    def rotate(self,nums:List[int],k:int)->None:\n",
    "        for i in range(k):\n",
    "            nums.insert(0,nums.pop())"
   ]
  },
  {
   "cell_type": "code",
   "execution_count": 4,
   "metadata": {},
   "outputs": [
    {
     "name": "stdout",
     "output_type": "stream",
     "text": [
      "[6, 7, 1, 2, 3, 4, 5]\n"
     ]
    }
   ],
   "source": [
    "from typing import List\n",
    "class Solution:\n",
    "    def rotate(self,nums:List[int],k:int)->None:\n",
    "        k=k%len(nums)\n",
    "        nums.reverse()\n",
    "        #nums[0:k].reverse()\n",
    "        # nums[k:].reverse()\n",
    "        nums[0:k]=reversed(nums[0:k])\n",
    "        nums[k:]=reversed(nums[k:])\n",
    "\n",
    "s=Solution()\n",
    "nums=[1,2,3,4,5,6,7]\n",
    "k=2\n",
    "s.rotate(nums,k)\n",
    "print(nums)"
   ]
  }
 ],
 "metadata": {
  "kernelspec": {
   "display_name": "Python 3",
   "language": "python",
   "name": "python3"
  },
  "language_info": {
   "codemirror_mode": {
    "name": "ipython",
    "version": 3
   },
   "file_extension": ".py",
   "mimetype": "text/x-python",
   "name": "python",
   "nbconvert_exporter": "python",
   "pygments_lexer": "ipython3",
   "version": "3.10.10"
  }
 },
 "nbformat": 4,
 "nbformat_minor": 2
}
